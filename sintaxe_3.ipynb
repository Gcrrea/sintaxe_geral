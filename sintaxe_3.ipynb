{
 "cells": [
  {
   "cell_type": "code",
   "execution_count": 10,
   "metadata": {},
   "outputs": [],
   "source": [
    "#Functolls\n",
    "#https://docs.python.org/pt-br/3.10/library/functools.html\n",
    "\n",
    "#Video functools cache"
   ]
  },
  {
   "cell_type": "code",
   "execution_count": 11,
   "metadata": {},
   "outputs": [],
   "source": [
    "from functools import lru_cache,total_ordering, partial,wraps\n",
    "import time\n"
   ]
  },
  {
   "cell_type": "code",
   "execution_count": 12,
   "metadata": {},
   "outputs": [
    {
     "data": {
      "text/plain": [
       "'\\nSintaxe:\\n@lru_cache(maxsize=128, typed=False)\\n\\nParâmetros:\\nmaxsize: Este parâmetro define o tamanho do cache, o cache pode armazenar até maxsize \\nchamadas de \\nfunção mais recentes, se maxsize for definido como None, o recurso LRU será desabilitado \\ne o cache pode crescer sem qualquer limitação typed: Se\\ntyped\\nfor definido como True, argumentos de função de tipos diferentes serão armazenados em \\ncache separadamente. Por exemplo, f(3) ef(3.0) serão tratados como chamadas distin\\n\\n'"
      ]
     },
     "execution_count": 12,
     "metadata": {},
     "output_type": "execute_result"
    }
   ],
   "source": [
    "\"\"\"\n",
    "Sintaxe:\n",
    "@lru_cache(maxsize=128, typed=False)\n",
    "\n",
    "Parâmetros:\n",
    "maxsize: Este parâmetro define o tamanho do cache, o cache pode armazenar até maxsize \n",
    "chamadas de \n",
    "função mais recentes, se maxsize for definido como None, o recurso LRU será desabilitado \n",
    "e o cache pode crescer sem qualquer limitação typed: Se\n",
    "typed\n",
    "for definido como True, argumentos de função de tipos diferentes serão armazenados em \n",
    "cache separadamente. Por exemplo, f(3) ef(3.0) serão tratados como chamadas distin\n",
    "\n",
    "\"\"\""
   ]
  },
  {
   "cell_type": "code",
   "execution_count": 13,
   "metadata": {},
   "outputs": [
    {
     "name": "stdout",
     "output_type": "stream",
     "text": [
      "300 executando\n"
     ]
    },
    {
     "data": {
      "text/plain": [
       "40000"
      ]
     },
     "execution_count": 13,
     "metadata": {},
     "output_type": "execute_result"
    }
   ],
   "source": [
    "@lru_cache(maxsize=20)\n",
    "def square(x: float) -> float:\n",
    "    print(x+100, 'executando')\n",
    "    return x * x\n",
    "\n",
    "square(200)\n"
   ]
  },
  {
   "cell_type": "code",
   "execution_count": 14,
   "metadata": {},
   "outputs": [
    {
     "name": "stdout",
     "output_type": "stream",
     "text": [
      "300 executando\n"
     ]
    },
    {
     "data": {
      "text/plain": [
       "40000"
      ]
     },
     "execution_count": 14,
     "metadata": {},
     "output_type": "execute_result"
    }
   ],
   "source": [
    "\n",
    "def square(x: float) -> float:\n",
    "    print(x+100, 'executando')\n",
    "    return x * x\n",
    "\n",
    "\n",
    "square(200)\n"
   ]
  },
  {
   "cell_type": "code",
   "execution_count": 15,
   "metadata": {},
   "outputs": [
    {
     "name": "stdout",
     "output_type": "stream",
     "text": [
      "Time taken to execute thefunction without lru_cache is 0.16403603553771973\n",
      "Time taken to execute the function with lru_cache is 0.0\n"
     ]
    }
   ],
   "source": [
    "from functools import lru_cache\n",
    "import time\n",
    "\n",
    "\n",
    "# Function that computes Fibonacci\n",
    "# numbers without lru_cache\n",
    "def fib_without_cache(n):\n",
    "\tif n < 2:\n",
    "\t\treturn n\n",
    "\treturn fib_without_cache(n-1) + fib_without_cache(n-2)\n",
    "\t\n",
    "# Execution start time\n",
    "begin = time.time()\n",
    "fib_without_cache(30)\n",
    "\n",
    "# Execution end time\n",
    "end = time.time()\n",
    "\n",
    "print(\"Time taken to execute the\\\n",
    "function without lru_cache is\", end-begin)\n",
    "\n",
    "# Function that computes Fibonacci\n",
    "# numbers with lru_cache\n",
    "@lru_cache(maxsize = 128)\n",
    "def fib_with_cache(n):\n",
    "\tif n < 2:\n",
    "\t\treturn n\n",
    "\treturn fib_with_cache(n-1) + fib_with_cache(n-2)\n",
    "\t\n",
    "begin = time.time()\n",
    "fib_with_cache(30)\n",
    "end = time.time()\n",
    "\n",
    "print(\"Time taken to execute the \\\n",
    "function with lru_cache is\", end-begin)\n"
   ]
  },
  {
   "cell_type": "code",
   "execution_count": 16,
   "metadata": {},
   "outputs": [
    {
     "data": {
      "text/plain": [
       "CacheInfo(hits=28, misses=16, maxsize=None, currsize=16)"
      ]
     },
     "execution_count": 16,
     "metadata": {},
     "output_type": "execute_result"
    }
   ],
   "source": [
    "@lru_cache(maxsize=None)\n",
    "def fib(n):\n",
    "    if n < 2:\n",
    "        return n\n",
    "    return fib(n-1) + fib(n-2)\n",
    "\n",
    "[fib(n) for n in range(16)]\n",
    "[0, 1, 1, 2, 3, 5, 8, 13, 21, 34, 55, 89, 144, 233, 377, 610]\n",
    "\n",
    "fib.cache_info()\n"
   ]
  },
  {
   "cell_type": "code",
   "execution_count": 17,
   "metadata": {},
   "outputs": [
    {
     "name": "stdout",
     "output_type": "stream",
     "text": [
      "Time taken to execute thefunction without lru_cache is 0.1592273712158203\n",
      "Time taken to execute the function with lru_cache is 0.0\n"
     ]
    }
   ],
   "source": [
    "from functools import lru_cache\n",
    "import time\n",
    "\n",
    "\n",
    "# Function that computes Fibonacci\n",
    "# numbers without lru_cache\n",
    "def fib_without_cache(n):\n",
    "\tif n < 2:\n",
    "\t\treturn n\n",
    "\treturn fib_without_cache(n-1) + fib_without_cache(n-2)\n",
    "\t\n",
    "# Execution start time\n",
    "begin = time.time()\n",
    "fib_without_cache(30)\n",
    "\n",
    "# Execution end time\n",
    "end = time.time()\n",
    "\n",
    "print(\"Time taken to execute the\\\n",
    "function without lru_cache is\", end-begin)\n",
    "\n",
    "# Function that computes Fibonacci\n",
    "# numbers with lru_cache\n",
    "@lru_cache(maxsize = 128)\n",
    "def fib_with_cache(n):\n",
    "\tif n < 2:\n",
    "\t\treturn n\n",
    "\treturn fib_with_cache(n-1) + fib_with_cache(n-2)\n",
    "\t\n",
    "begin = time.time()\n",
    "fib_with_cache(30)\n",
    "end = time.time()\n",
    "\n",
    "print(\"Time taken to execute the \\\n",
    "function with lru_cache is\", end-begin)\n"
   ]
  },
  {
   "cell_type": "code",
   "execution_count": 18,
   "metadata": {},
   "outputs": [],
   "source": [
    "def reduce(function, iterable, initializer=None):\n",
    "    it = iter(iterable)\n",
    "    if initializer is None:\n",
    "        value = next(it)\n",
    "    else:\n",
    "        value = initializer\n",
    "    for element in it:\n",
    "        value = function(value, element)\n",
    "    return value\n"
   ]
  },
  {
   "cell_type": "code",
   "execution_count": 19,
   "metadata": {},
   "outputs": [
    {
     "name": "stdout",
     "output_type": "stream",
     "text": [
      "9\n"
     ]
    }
   ],
   "source": [
    "from functools import lru_cache\n",
    "\n",
    "@lru_cache(maxsize = 100)\n",
    "def count_vowels(sentence):\n",
    "\tsentence = sentence.casefold()\n",
    "\treturn sum(sentence.count(vowel) for vowel in 'aeiou')\n",
    "\t\n",
    "print(count_vowels(\"Welcome to Geeksforgeeks\"))\n"
   ]
  },
  {
   "cell_type": "code",
   "execution_count": 20,
   "metadata": {},
   "outputs": [
    {
     "name": "stdout",
     "output_type": "stream",
     "text": [
      "0 + 1 = 1\n",
      "1 + 2 = 3\n",
      "3 + 3 = 6\n",
      "6 + 4 = 10\n"
     ]
    },
    {
     "data": {
      "text/plain": [
       "10"
      ]
     },
     "execution_count": 20,
     "metadata": {},
     "output_type": "execute_result"
    }
   ],
   "source": [
    "#A função Reduce recebe dois argumentos convenientemente chamada function. Essa função será aplicada aos \n",
    "# itens em um iterável para calcular cumulativamente um valor final.\n",
    "\n",
    "def reduce(function, iterable, initializer=None):\n",
    "    \"\"\"Ela itera por eles e aplica a soma nos dados e retorna\"\"\"\n",
    "    it = iter(iterable)\n",
    "    if initializer is None:\n",
    "        value = next(it)\n",
    "    else:\n",
    "        value = initializer\n",
    "    for element in it:\n",
    "        value = function(value, element)\n",
    "    return value\n",
    "\n",
    "\n",
    "def soma_valores(a, b):\n",
    "    result = a + b\n",
    "    print(f\"{a} + {b} = {result}\")\n",
    "    \n",
    "    return result\n",
    "\n",
    "numbers = [0, 1, 2, 3, 4]\n",
    "\n",
    "reduce(soma_valores, numbers)\n"
   ]
  },
  {
   "cell_type": "code",
   "execution_count": 21,
   "metadata": {},
   "outputs": [
    {
     "data": {
      "text/plain": [
       "10"
      ]
     },
     "execution_count": 21,
     "metadata": {},
     "output_type": "execute_result"
    }
   ],
   "source": [
    "\"\"\"Existem alternativas mais limpas e elegantes\"\"\"\n",
    "\n",
    "#Um simples contados com soma\n",
    "numbers = [1, 2, 3, 4]\n",
    "total = 0\n",
    "for num in numbers:\n",
    "    total += num\n",
    "\n",
    "total\n"
   ]
  },
  {
   "cell_type": "code",
   "execution_count": 22,
   "metadata": {},
   "outputs": [
    {
     "data": {
      "text/plain": [
       "10"
      ]
     },
     "execution_count": 22,
     "metadata": {},
     "output_type": "execute_result"
    }
   ],
   "source": [
    "#Aplicando o reduce com Lambda\n",
    "from functools import reduce\n",
    "\n",
    "numbers = [1, 2, 3, 4]\n",
    "\n",
    "reduce(lambda a, b: a + b, numbers)\n",
    "\n"
   ]
  },
  {
   "cell_type": "code",
   "execution_count": 23,
   "metadata": {},
   "outputs": [
    {
     "data": {
      "text/plain": [
       "24"
      ]
     },
     "execution_count": 23,
     "metadata": {},
     "output_type": "execute_result"
    }
   ],
   "source": [
    "from functools import reduce\n",
    "\n",
    "#Multiplicando\n",
    "def my_prod(a, b):\n",
    "    return a * b\n",
    "\n",
    "\n",
    "my_prod(1, 2)\n",
    "\n",
    "\n",
    "numbers = [1, 2, 3, 4]\n",
    "\n",
    "reduce(my_prod, numbers)"
   ]
  },
  {
   "cell_type": "code",
   "execution_count": 24,
   "metadata": {},
   "outputs": [
    {
     "data": {
      "text/plain": [
       "24"
      ]
     },
     "execution_count": 24,
     "metadata": {},
     "output_type": "execute_result"
    }
   ],
   "source": [
    "#Multiplicando\n",
    "numbers = [1, 2, 3, 4]\n",
    "product = 1\n",
    "for num in numbers:\n",
    "    product *= num\n",
    "\n",
    "product\n"
   ]
  },
  {
   "cell_type": "code",
   "execution_count": 25,
   "metadata": {},
   "outputs": [
    {
     "data": {
      "text/plain": [
       "24"
      ]
     },
     "execution_count": 25,
     "metadata": {},
     "output_type": "execute_result"
    }
   ],
   "source": [
    "from functools import reduce\n",
    "\n",
    "numbers = [1, 2, 3, 4]\n",
    "\n",
    "reduce(lambda a, b: a * b, numbers)\n"
   ]
  },
  {
   "cell_type": "code",
   "execution_count": 26,
   "metadata": {},
   "outputs": [
    {
     "name": "stdout",
     "output_type": "stream",
     "text": [
      "233 233\n"
     ]
    }
   ],
   "source": [
    "\"\"\"\n",
    "Esta é uma função de conveniência para invocar update_wrapper()como um decorador \n",
    "de função ao definir uma função wrapper. É equivalente a . Por exemplo:partial(update_wrapper, wrapped=wrapped,\n",
    "assigned=assigned, updated=updated)\n",
    "\n",
    ". wraps() é um decorador aplicado à função wrapper de um decorador. Ele atualiza a função wrapper\n",
    "para se parecer com a função wrapper \n",
    "copiando atributos como __name__, __doc__ (a docstring), etc.\n",
    "\n",
    "\"\"\"\n",
    "from functools import wraps\n",
    "def my_decorator(f):\n",
    "    @wraps(f)\n",
    "    def wrapper(*args, **wargs):\n",
    "        somado = sum([arg for arg in args])\n",
    "        return somado\n",
    "    return wrapper\n",
    "\n",
    "\n",
    "@my_decorator\n",
    "def example(*args):\n",
    "    [item + -2 for item in args]\n",
    "    print(args)\n",
    "    return\n",
    "\n",
    "@my_decorator\n",
    "def example2(*args):\n",
    "    [item + 2 for item in args]\n",
    "    print(args)\n",
    "   \n",
    "    return\n",
    "\n",
    "x = example(200, 33)\n",
    "\n",
    "y = example2(200,33)\n",
    "\n",
    "print(x, y)"
   ]
  },
  {
   "cell_type": "code",
   "execution_count": 27,
   "metadata": {},
   "outputs": [],
   "source": [
    "#Coolections"
   ]
  },
  {
   "cell_type": "code",
   "execution_count": 28,
   "metadata": {},
   "outputs": [],
   "source": [
    "#https://docs.python.org/3/library/collections.html"
   ]
  },
  {
   "cell_type": "code",
   "execution_count": 29,
   "metadata": {},
   "outputs": [
    {
     "data": {
      "text/plain": [
       "'\\nchamada namedtuple(), que é especialmente projetada para tornar seu \\ncódigo mais Pythonico ao trabalhar com tuplas. Com namedtuple(), você pode criar \\ntipos de sequência imutáveis \\u200bque permitem acessar seus valores usando nomes de campo\\ndescritivos e a notação de ponto em vez de índices inteiros pouco claros.\\nSe você tem alguma experiência usando Python, sabe que escrever código \\nPythonic é uma habilidade essencial para desenvolvedores Python. N\\n'"
      ]
     },
     "execution_count": 29,
     "metadata": {},
     "output_type": "execute_result"
    }
   ],
   "source": [
    "\"\"\"NamedTuples\"\"\"\n",
    "\n",
    "\n",
    "\"\"\"\n",
    "chamada namedtuple(), que é especialmente projetada para tornar seu \n",
    "código mais Pythonico ao trabalhar com tuplas. Com namedtuple(), você pode criar \n",
    "tipos de sequência imutáveis ​que permitem acessar seus valores usando nomes de campo\n",
    "descritivos e a notação de ponto em vez de índices inteiros pouco claros.\n",
    "Se você tem alguma experiência usando Python, sabe que escrever código \n",
    "Pythonic é uma habilidade essencial para desenvolvedores Python. N\n",
    "\"\"\""
   ]
  },
  {
   "cell_type": "code",
   "execution_count": 30,
   "metadata": {},
   "outputs": [],
   "source": [
    "from collections import namedtuple,deque\n"
   ]
  },
  {
   "cell_type": "code",
   "execution_count": 31,
   "metadata": {},
   "outputs": [
    {
     "data": {
      "text/plain": [
       "60"
      ]
     },
     "execution_count": 31,
     "metadata": {},
     "output_type": "execute_result"
    }
   ],
   "source": [
    "cache_values = deque(maxlen=4)\n",
    "\n",
    "def cache(func):\n",
    "    def inner(*args):\n",
    "        cache_values.append(args)\n",
    "        return func(*args)\n",
    "    return inner\n",
    "\n",
    "@cache\n",
    "def soma(x, y):\n",
    "    return x+ y\n",
    "\n",
    "soma(20, 40)"
   ]
  },
  {
   "cell_type": "code",
   "execution_count": 32,
   "metadata": {},
   "outputs": [],
   "source": [
    "#Tupla é imutavel, nao aceita resignação de novos itens, após sua declaração\n",
    "#Porem em named Tuples os elementos pode ser acessados por atributos"
   ]
  },
  {
   "cell_type": "code",
   "execution_count": 33,
   "metadata": {},
   "outputs": [],
   "source": [
    "j = namedtuple('Jogador','nome time camisa n')"
   ]
  },
  {
   "cell_type": "code",
   "execution_count": 34,
   "metadata": {},
   "outputs": [],
   "source": [
    "jogador = j('Fulano', 'Sao Paulo', 200,7)"
   ]
  },
  {
   "cell_type": "code",
   "execution_count": 35,
   "metadata": {},
   "outputs": [
    {
     "data": {
      "text/plain": [
       "[{'nome': 'p1', 'preco': 20},\n",
       " {'nome': 'p2', 'preco': 20},\n",
       " {'nome': 'p3', 'preco': 200},\n",
       " {'nome': 'p4', 'preco': 2000}]"
      ]
     },
     "execution_count": 35,
     "metadata": {},
     "output_type": "execute_result"
    }
   ],
   "source": [
    "produtos = [{'nome':'p1','preco':20},\n",
    "        {'nome':'p2','preco':20},\n",
    "        {'nome':'p3','preco':200},\n",
    "        {'nome':'p4','preco':2000}]\n",
    "produtos"
   ]
  },
  {
   "cell_type": "code",
   "execution_count": 36,
   "metadata": {},
   "outputs": [
    {
     "data": {
      "text/plain": [
       "[{'nome': 'p1', 'preco': 21.0},\n",
       " {'nome': 'p2', 'preco': 21.0},\n",
       " {'nome': 'p3', 'preco': 210.0},\n",
       " {'nome': 'p4', 'preco': 2100.0}]"
      ]
     },
     "execution_count": 36,
     "metadata": {},
     "output_type": "execute_result"
    }
   ],
   "source": [
    "novos = [{**produto, 'preco':produto['preco']*1.05}  for produto in produtos]\n",
    "novos"
   ]
  },
  {
   "cell_type": "code",
   "execution_count": 37,
   "metadata": {},
   "outputs": [
    {
     "data": {
      "text/plain": [
       "[{'nome': 'p1', 'preco': 20},\n",
       " {'nome': 'p2', 'preco': 20},\n",
       " {'nome': 'p3', 'preco': 210.0},\n",
       " {'nome': 'p4', 'preco': 2100.0}]"
      ]
     },
     "execution_count": 37,
     "metadata": {},
     "output_type": "execute_result"
    }
   ],
   "source": [
    "novos = [{**produto, 'preco':produto['preco']*1.05} if produto['preco'] != 20 else {**produto} for produto in produtos]\n",
    "novos"
   ]
  },
  {
   "cell_type": "code",
   "execution_count": 38,
   "metadata": {},
   "outputs": [
    {
     "name": "stdout",
     "output_type": "stream",
     "text": [
      "<built-in method index of Jogador object at 0x00000262FD676200> Sao Paulo 200\n"
     ]
    }
   ],
   "source": [
    "jogador.index\n",
    "jogador.time\n",
    "jogador.camisa\n",
    "print(jogador.index,jogador.time,jogador.camisa)"
   ]
  },
  {
   "cell_type": "code",
   "execution_count": 39,
   "metadata": {},
   "outputs": [],
   "source": [
    "Users = namedtuple('Usuario',['Nome','Peso','Idade','Sexo'])\n",
    "\n",
    "\n",
    "user = Users('Ciclano', 40, 15,'Masculino')\n"
   ]
  },
  {
   "cell_type": "code",
   "execution_count": 40,
   "metadata": {},
   "outputs": [
    {
     "data": {
      "text/plain": [
       "15"
      ]
     },
     "execution_count": 40,
     "metadata": {},
     "output_type": "execute_result"
    }
   ],
   "source": [
    "user[2]"
   ]
  },
  {
   "cell_type": "code",
   "execution_count": 41,
   "metadata": {},
   "outputs": [
    {
     "data": {
      "text/plain": [
       "'Ciclano'"
      ]
     },
     "execution_count": 41,
     "metadata": {},
     "output_type": "execute_result"
    }
   ],
   "source": [
    "user.Idade\n",
    "user.Nome"
   ]
  },
  {
   "cell_type": "code",
   "execution_count": 42,
   "metadata": {},
   "outputs": [
    {
     "name": "stdout",
     "output_type": "stream",
     "text": [
      "Ciclano\n",
      "40\n",
      "15\n",
      "Masculino\n"
     ]
    }
   ],
   "source": [
    "for uss in user:\n",
    "    print(uss)"
   ]
  }
 ],
 "metadata": {
  "kernelspec": {
   "display_name": ".venv",
   "language": "python",
   "name": "python3"
  },
  "language_info": {
   "codemirror_mode": {
    "name": "ipython",
    "version": 3
   },
   "file_extension": ".py",
   "mimetype": "text/x-python",
   "name": "python",
   "nbconvert_exporter": "python",
   "pygments_lexer": "ipython3",
   "version": "3.11.2"
  },
  "orig_nbformat": 4
 },
 "nbformat": 4,
 "nbformat_minor": 2
}
