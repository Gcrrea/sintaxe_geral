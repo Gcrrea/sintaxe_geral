{
 "cells": [
  {
   "cell_type": "code",
   "execution_count": null,
   "metadata": {},
   "outputs": [],
   "source": [
    "from sqlalchemy import create_engine\n",
    "from sqlalchemy.orm import sessionmaker\n",
    "from sqlalchemy import create_engine\n",
    "from sqlalchemy.engine import URL\n",
    "import os\n",
    "from pathlib import Path\n",
    "from dotenv import load_dotenv\n",
    "from urllib import parse\n",
    "from dotenv import load_dotenv\n",
    "from os import path\n",
    "\n",
    "\n",
    "load_dotenv()\n",
    "\n",
    "\n",
    "\n",
    "myboxuser_mssql = os.getenv('myboxmsqluser')\n",
    "myboxpassword_mssql = os.getenv('myboxmsqlpassword')\n",
    "myboxdatabase_mssql = os.getenv('myboxmsqldatabase')\n",
    "myboxhost_mssql = os.getenv('myboxmmsqlhost')\n",
    "\n",
    "user_mssql = os.getenv('serveruser')\n",
    "password_mssql = os.getenv('serverpassword')\n",
    "database_mssql = os.getenv('serverdatabase')\n",
    "host_mssql = os.getenv('serverhost')\n",
    "\n",
    "\n",
    "\n",
    "def mssql_get_conn():\n",
    "\n",
    "    connection_url = URL.create(\n",
    "            \"mssql+pyodbc\",\n",
    "            username=f\"{myboxuser_mssql}\",\n",
    "            password=f\"{myboxpassword_mssql}\",\n",
    "            host=f\"{myboxhost_mssql}\",\n",
    "            database=f\"{myboxdatabase_mssql}\",\n",
    "            query={\n",
    "                \"driver\": \"ODBC Driver 17 for SQL Server\",\n",
    "                \"autocommit\": \"True\",\n",
    "        },\n",
    "        )\n",
    "      \n",
    "    engine = create_engine(connection_url).execution_options(\n",
    "    isolation_level=\"AUTOCOMMIT\", future=True,fast_executemany=True)\n",
    "    return engine\n",
    "\n"
   ]
  }
 ],
 "metadata": {
  "language_info": {
   "name": "python"
  },
  "orig_nbformat": 4
 },
 "nbformat": 4,
 "nbformat_minor": 2
}
