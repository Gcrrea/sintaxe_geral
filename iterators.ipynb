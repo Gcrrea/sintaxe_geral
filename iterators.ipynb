{
 "cells": [
  {
   "cell_type": "code",
   "execution_count": null,
   "metadata": {},
   "outputs": [],
   "source": [
    "notas_turma = ['João', 8.0, 9.0, 10.0, 'Maria', 9.0, 7.0, 6.0, 'José', 3.4, 7.0, 7.0, 'Cláudia', 5.5, 6.6, 8.0, 'Ana', 6.0, 10.0, 9.5]\n"
   ]
  },
  {
   "cell_type": "code",
   "execution_count": null,
   "metadata": {},
   "outputs": [],
   "source": [
    "nomes = []\n",
    "notas_juntas = []\n",
    "\n",
    "for i in range(len(notas_turma)):\n",
    "    if isinstance(notas_turma[i], str):\n",
    "    \n",
    "        print(notas_turma[i])"
   ]
  },
  {
   "cell_type": "code",
   "execution_count": null,
   "metadata": {},
   "outputs": [],
   "source": [
    "notas_turma = ['João', 8.0, 9.0, 10.0, 'Maria', 9.0, 7.0, 6.0, 'José', 3.4, 7.0, 7.0, 'Cláudia', 5.5, 6.6, 8.0, 'Ana', 6.0, 10.0, 9.5]"
   ]
  },
  {
   "cell_type": "code",
   "execution_count": null,
   "metadata": {},
   "outputs": [],
   "source": [
    "nomes = []\n",
    "notas_juntas = []\n",
    "\n",
    "for i in range(len(notas_turma)): \n",
    "  if i % 4 ==0: \n",
    "      nomes.append(notas_turma[i])\n",
    "  else: \n",
    "      notas_juntas.append(notas_turma[i])"
   ]
  },
  {
   "cell_type": "code",
   "execution_count": null,
   "metadata": {},
   "outputs": [],
   "source": [
    "def deposita(conta, valor): \n",
    "    conta[\"saldo\"] += valor\n",
    "    \n",
    "\n",
    "def extrato(conta):\n",
    "    print(\"Saldo é {}\".format(conta[\"saldo\"]))"
   ]
  },
  {
   "cell_type": "code",
   "execution_count": null,
   "metadata": {},
   "outputs": [],
   "source": [
    "notas = []\n",
    "\n",
    "for i in range(0, len(notas_juntas), 3):\n",
    "    notas.append([notas_juntas[i],notas_juntas[i+1],notas_juntas[i+2]])\n",
    "notas"
   ]
  },
  {
   "cell_type": "code",
   "execution_count": null,
   "metadata": {},
   "outputs": [],
   "source": [
    "estudantes = [\"João\", \"Maria\", \"José\", \"Cláudia\", \"Ana\"]\n",
    "estudantes\n"
   ]
  },
  {
   "cell_type": "code",
   "execution_count": null,
   "metadata": {},
   "outputs": [],
   "source": [
    "from random import randint\n",
    "\n",
    "def gera_codigo():\n",
    "  return str(randint(0,999))\n"
   ]
  },
  {
   "cell_type": "code",
   "execution_count": null,
   "metadata": {},
   "outputs": [],
   "source": [
    "codigo_estudantes = []\n",
    "\n",
    "for i in range(len(estudantes)): \n",
    "  codigo_estudantes.append((estudantes[i], estudantes[i][0]))\n",
    "codigo_estudantes"
   ]
  },
  {
   "cell_type": "code",
   "execution_count": null,
   "metadata": {},
   "outputs": [],
   "source": [
    "codigo_estudantes = []\n",
    "\n",
    "for i in range(len(estudantes)): \n",
    "  codigo_estudantes.append((estudantes[i], estudantes[i][0] + gera_codigo()))\n",
    "codigo_estudantes"
   ]
  },
  {
   "cell_type": "code",
   "execution_count": null,
   "metadata": {},
   "outputs": [],
   "source": [
    "session = {\"cart\":[]}\n",
    "produto = {\"quantidade\":1,\"valor\":33.00,\"imagem\":\"aaaaaaaaaaa\",\"nome\":\"teste\"}"
   ]
  },
  {
   "cell_type": "code",
   "execution_count": null,
   "metadata": {},
   "outputs": [],
   "source": [
    "def handle_cart():\n",
    "    lista_Produtos = []\n",
    "    grand_total = 0\n",
    "    index = 0\n",
    "    quantity_total = 0\n",
    "\n",
    "    for item in session['cart']:\n",
    "        #produto = Produtos.query.filter_by(cod_produto=item['cod_produto']).first()\n",
    "       \n",
    "        quantidade = int(item['quantidade'])\n",
    "        total = quantidade * produto.valor\n",
    "        \n",
    "        grand_total += total\n",
    "\n",
    "        quantity_total += quantidade\n",
    "\n",
    "        lista_Produtos.append({'cod_produto' : produto.cod_produto,\n",
    "                          'nome' : produto.nome, 'valor' :  produto.valor,\n",
    "                            'imagem' : produto.imagem, 'quantidade' : quantidade, 'total': total, 'index': index})\n",
    "        index += 1\n",
    "        print(lista_Produtos)\n",
    "    grand_total_plus_shipping = grand_total + 1000\n",
    "\n",
    "    return produto, grand_total, grand_total_plus_shipping, quantity_total\n",
    "handle_cart()"
   ]
  },
  {
   "cell_type": "code",
   "execution_count": null,
   "metadata": {},
   "outputs": [],
   "source": [
    "\"\"\"\"\n",
    "List Compreehsion\n",
    "\"\"\""
   ]
  },
  {
   "cell_type": "code",
   "execution_count": null,
   "metadata": {},
   "outputs": [],
   "source": [
    "nomes = [('João', 'J720'), ('Maria', 'M205'), ('José', 'J371'), ('Cláudia', 'C546'), ('Ana', 'A347')]\n",
    "notas = [[8.0, 9.0, 10.0], [9.0, 7.0, 6.0], [3.4, 7.0, 7.0], [5.5, 6.6, 8.0], [6.0, 10.0, 9.5]]\n",
    "medias = [9.0, 7.3, 5.8, 6.7, 8.5]\n"
   ]
  },
  {
   "cell_type": "code",
   "execution_count": null,
   "metadata": {},
   "outputs": [],
   "source": [
    "situacao = [\"Aprovado\" if media >= 6 else \"Reprovado\" for media in medias]\n",
    "situacao\n"
   ]
  },
  {
   "cell_type": "code",
   "execution_count": null,
   "metadata": {},
   "outputs": [],
   "source": [
    "situacao = [\"Aprovado\" if media >= 6 else \"Reprovado\" for media in medias]\n",
    "situacao"
   ]
  },
  {
   "cell_type": "code",
   "execution_count": null,
   "metadata": {},
   "outputs": [],
   "source": [
    "cadastro = [x for x in [nomes, notas, medias]]\n",
    "cadastro"
   ]
  },
  {
   "cell_type": "code",
   "execution_count": null,
   "metadata": {},
   "outputs": [],
   "source": [
    "cadastro = [x for x in [nomes, notas, medias, situacao]]\n",
    "cadastro\n"
   ]
  },
  {
   "cell_type": "code",
   "execution_count": null,
   "metadata": {},
   "outputs": [],
   "source": [
    "alturas = [1.70, 1.80, 1.65, 1.75, 1.90]\n",
    "pesos = [65, 80, 58, 70, 95]\n",
    "\n",
    "imc = [round((peso / altura**2), 1) for altura, peso in zip(alturas, pesos)]\n",
    "print(imc)"
   ]
  },
  {
   "cell_type": "code",
   "execution_count": null,
   "metadata": {},
   "outputs": [],
   "source": [
    "\"\"\"\n",
    "Iterador ou iterator é o objeto sobre os quais se pode fazer a interação\n",
    "Geralmente vai ser uma coleção de itens, Para criar um objeto iterador basta criar uma classe que implemente esses metodos. O Iter() retorna o objeto a ser empregad e o NEXT retorna o proxumo valor da iteração\n",
    "\n",
    "\n",
    "\"\"\"\n"
   ]
  },
  {
   "cell_type": "code",
   "execution_count": null,
   "metadata": {},
   "outputs": [],
   "source": [
    "nota = float(input('Digite a nota do (a) estudante: '))\n",
    "\n",
    "\n",
    "def qualitativo(x):\n",
    "    return x + 0.5\n",
    "\n",
    "qualitativo(nota)\n"
   ]
  },
  {
   "cell_type": "code",
   "execution_count": null,
   "metadata": {},
   "outputs": [],
   "source": [
    "nota = float(input('Digite a nota do (a) estudante: '))\n",
    "\n",
    "qualitativo = lambda x: x + 0.5\n",
    "qualitativo(nota)"
   ]
  },
  {
   "cell_type": "code",
   "execution_count": null,
   "metadata": {},
   "outputs": [],
   "source": [
    "notas = [6.0, 7.0, 9.0, 5.5, 8.0]\n",
    "\n",
    "notas_atualizadas = list(map(lambda x: x + qualitativo, notas))\n",
    "notas_atualizadas"
   ]
  },
  {
   "cell_type": "code",
   "execution_count": 2,
   "metadata": {},
   "outputs": [],
   "source": [
    "lista = ['valora', 1, 2, 'valorb']\n",
    "\n",
    "iterador = iter(lista)"
   ]
  },
  {
   "cell_type": "code",
   "execution_count": 4,
   "metadata": {},
   "outputs": [
    {
     "name": "stdout",
     "output_type": "stream",
     "text": [
      "1\n",
      "2\n"
     ]
    }
   ],
   "source": [
    "#Next retorna item a item, 1 por vez, diferente do laço ele nao retorna tudo\n",
    "\n",
    "print(next(iterador))\n",
    "print(next(iterador))"
   ]
  },
  {
   "cell_type": "code",
   "execution_count": 5,
   "metadata": {},
   "outputs": [],
   "source": [
    "from itertools import zip_longest"
   ]
  },
  {
   "cell_type": "code",
   "execution_count": 6,
   "metadata": {},
   "outputs": [
    {
     "name": "stdout",
     "output_type": "stream",
     "text": [
      "[('Salvador', 'BA'), ('Ubatuba', 'SP'), ('Belo Horizonte', 'MG')]\n",
      "[('Salvador', 'BA'), ('Ubatuba', 'SP'), ('Belo Horizonte', 'MG'), ('SEM CIDADE', 'RJ')]\n"
     ]
    }
   ],
   "source": [
    "\n",
    "#zip faz a unicao de listas, igual um ziper mesmo. O zip, vai ate o compriment da menor lista, ja o zip_longest, vai ate o maior, e o que falta fica NULL\n",
    "\n",
    "\n",
    "l1 = ['Salvador', 'Ubatuba', 'Belo Horizonte']\n",
    "l2 = ['BA', 'SP', 'MG', 'RJ']\n",
    "print(list(zip(l1, l2)))\n",
    "print(list(zip_longest(l1, l2, fillvalue='SEM CIDADE')))"
   ]
  },
  {
   "cell_type": "code",
   "execution_count": 7,
   "metadata": {},
   "outputs": [
    {
     "name": "stdout",
     "output_type": "stream",
     "text": [
      "120\n"
     ]
    }
   ],
   "source": [
    "\"\"\"\n",
    "Dizemos que uma função é recursiva quando,\n",
    "dentro dela, ela chama ela mesma.\n",
    "Porém, com outro argumento.\n",
    "\n",
    "\"\"\"\n",
    "\n",
    "\n",
    "def factorial(n):\n",
    "    if n <= 1:\n",
    "        return 1\n",
    "\n",
    "    return n * factorial(n - 1)\n",
    "\n",
    "print(factorial(5))\n",
    "\n"
   ]
  },
  {
   "cell_type": "code",
   "execution_count": null,
   "metadata": {},
   "outputs": [],
   "source": [
    "def somatorio(x):\n",
    "    if x==1:\n",
    "        print(x)\n",
    "        return 1\n",
    "    else:\n",
    "        return x + somatorio(x-1)\n",
    "\n",
    "while True:\n",
    "    x = int(input(\"Somatorio de 1 até: \"))\n",
    "    print(\"Soma: \",somatorio(x) )"
   ]
  },
  {
   "cell_type": "code",
   "execution_count": null,
   "metadata": {},
   "outputs": [],
   "source": [
    "\"\"\"\n",
    "Em Python, podemos criar uma função dentro de outra função.\n",
    "Isso é conhecido como uma função aninhada. Por exemplo,\n",
    "\n",
    "\"\"\"\n",
    "def greet(name):\n",
    "    # primeira\n",
    "    def display_name():\n",
    "        print(\"oi\", name)\n",
    "    \n",
    "    # chamando primeira funca\n",
    "    display_name()\n",
    "\n",
    "# Chamando Outra funcao\n",
    "greet(\"John\")  \n",
    "\n",
    "# Output: Hi John\n"
   ]
  },
  {
   "cell_type": "code",
   "execution_count": null,
   "metadata": {},
   "outputs": [],
   "source": [
    "\"\"\"\n",
    "\n",
    "\n",
    "Em uma nota final, é bom ressaltar que os valores que ficam incluídos na função de fechamento podem ser encontrados.\n",
    "\n",
    "Todos os objetos de função possuem um __closure__atributo que retorna uma tupla de objetos de célula se for uma função de fechamento.\n",
    "\n",
    "\n",
    "\"\"\"\n",
    "\n",
    "\n"
   ]
  },
  {
   "cell_type": "code",
   "execution_count": null,
   "metadata": {},
   "outputs": [],
   "source": [
    "def greet():\n",
    "    #variável definida fora da função interna\n",
    "    name = \"John\"\n",
    "    \n",
    "    # retorna uma função anônima aninhada\n",
    "    return lambda: \"Hi \" + name\n",
    "\n",
    "#chamand\n",
    "message = greet()\n",
    "\n",
    "# chamando\n",
    "print(message())\n",
    "\n",
    "# oi fulanoo: "
   ]
  },
  {
   "cell_type": "code",
   "execution_count": null,
   "metadata": {},
   "outputs": [],
   "source": [
    "\"\"\"\n",
    "Então, para que servem os fechamentos?\n",
    "\n",
    "Closures podem ser usados ​​para evitar valores globais e fornecer ocultação de dados e podem ser uma solução elegante para casos simples com um ou poucos métodos.\n",
    "\n",
    "No entanto, para casos maiores com vários atributos e métodos, uma implementação de classe pode ser mais apropriada.\n",
    "\n",
    "\"\"\""
   ]
  },
  {
   "cell_type": "code",
   "execution_count": null,
   "metadata": {},
   "outputs": [],
   "source": [
    "def calculate():\n",
    "    num = 1\n",
    "    def inner_func():\n",
    "        nonlocal num\n",
    "        num += 2\n",
    "        return num\n",
    "    return inner_func\n",
    "\n",
    "# outra funcao\n",
    "odd = calculate()\n",
    "\n",
    "# chamand\n",
    "print(odd())\n",
    "print(odd())\n",
    "print(odd())\n",
    "\n",
    "# chamando 2\n",
    "odd2 = calculate()\n",
    "print(odd2())"
   ]
  },
  {
   "cell_type": "code",
   "execution_count": null,
   "metadata": {},
   "outputs": [],
   "source": [
    "\"\"\"\n",
    "\n",
    "Os exemplos acima são classes e objetos em sua forma mais simples e não são realmente úteis em aplicações da vida real.\n",
    "\n",
    "Para entender o significado das classes, temos que entender a função interna __init__().\n",
    "\n",
    "Todas as classes possuem uma função chamada __init__(), que sempre é executada quando a classe está sendo iniciada.\n",
    "\"\"\""
   ]
  },
  {
   "cell_type": "code",
   "execution_count": null,
   "metadata": {},
   "outputs": [],
   "source": [
    "def make_multiplier_of(n):\n",
    "    def multiplier(x):\n",
    "        return x * n\n",
    "    return multiplier\n",
    "\n",
    "\n",
    "# Multiplier of 3\n",
    "times3 = make_multiplier_of(3)\n",
    "\n",
    "# Multiplier of 5\n",
    "times5 = make_multiplier_of(5)\n",
    "\n",
    "# Output: 27\n",
    "print(times3(9))\n",
    "\n",
    "# Output: 15\n",
    "print(times5(3))\n",
    "\n",
    "# Output: 30\n",
    "print(times5(times3(2)))"
   ]
  },
  {
   "cell_type": "code",
   "execution_count": 19,
   "metadata": {},
   "outputs": [
    {
     "name": "stdout",
     "output_type": "stream",
     "text": [
      "Fulano\n",
      "36\n"
     ]
    }
   ],
   "source": [
    "class Pessoa:\n",
    "  def __init__(self, nome, idade):\n",
    "    self.nome = nome\n",
    "    self.idade = idade\n",
    "\n",
    "p1 = Pessoa(\"Fulano\", 36)\n",
    "\n",
    "print(p1.nome)\n",
    "print(p1.idade)"
   ]
  },
  {
   "cell_type": "code",
   "execution_count": null,
   "metadata": {},
   "outputs": [],
   "source": [
    "\"\"\"\n",
    "A função __str__() controla o que deve ser retornado quando \n",
    "o objeto de classe é representado como uma string.\n",
    "\n",
    "Se a função __str__() não for definida, a representação de\n",
    "\n",
    "string do objeto é retornada:\n",
    "\n",
    "\"\"\""
   ]
  },
  {
   "cell_type": "code",
   "execution_count": null,
   "metadata": {},
   "outputs": [],
   "source": [
    "class Pessoa:\n",
    "  def __init__(self, nome, idade):\n",
    "    self.nome = nome\n",
    "    self.idade = idade\n",
    "\n",
    "  def __str__(self):\n",
    "    return f\"{self.nome}({self.idade})\"\n",
    "\n",
    "p1 = Pessoa(\"John\", 36)\n",
    "\n",
    "print(p1)"
   ]
  },
  {
   "cell_type": "code",
   "execution_count": 21,
   "metadata": {},
   "outputs": [
    {
     "name": "stdout",
     "output_type": "stream",
     "text": [
      "Ola Meu nome é John\n",
      "Ola Meu nome é Joao\n"
     ]
    }
   ],
   "source": [
    "class Pessoa:\n",
    "  def __init__(self, nome, idade):\n",
    "    self.nome = nome\n",
    "    self.idade = idade\n",
    "\n",
    "  def myfunc(self):\n",
    "    print(\"Ola Meu nome é \" + self.nome)\n",
    "\n",
    "p1 = Pessoa(\"John\", 36)\n",
    "p1.myfunc()\n",
    "p1 = Pessoa(\"Joao\", 56)\n",
    "p1.myfunc()"
   ]
  },
  {
   "cell_type": "code",
   "execution_count": null,
   "metadata": {},
   "outputs": [],
   "source": []
  },
  {
   "cell_type": "code",
   "execution_count": 22,
   "metadata": {},
   "outputs": [
    {
     "data": {
      "text/plain": [
       "{'nome': 'Fulano', 'idade': 55}"
      ]
     },
     "execution_count": 22,
     "metadata": {},
     "output_type": "execute_result"
    }
   ],
   "source": [
    "class Pessoa:\n",
    "    ano_atual = 2022\n",
    "\n",
    "    def __init__(self, nome, idade):\n",
    "        self.nome = nome\n",
    "        self.idade = idade\n",
    "\n",
    "    def get_ano_nascimento(self):\n",
    "        return Pessoa.ano_atual - self.idade\n",
    "\n",
    "\n",
    "dados = {'nome': 'Fulano', 'idade': 55}\n",
    "p1 = Pessoa(**dados)\n",
    "p1.nome = 'EITA'\n",
    "dados\n",
    "\n",
    "# print(p1.idade)\n",
    "\n",
    "# p1.__dict__['outra'] = 'coisa'\n",
    "# p1.__dict__['nome'] = 'EITA'\n",
    "# del p1.__dict__['nome']"
   ]
  },
  {
   "cell_type": "code",
   "execution_count": 13,
   "metadata": {},
   "outputs": [],
   "source": [
    "class Pessoa:\n",
    "    ano = 2023  # atributo de classe\n",
    "\n",
    "    def __init__(self, nome, idade):\n",
    "        self.nome = nome\n",
    "        self.idade = idade\n",
    "\n",
    "    @classmethod\n",
    "    def metodo_classe_a(cls):\n",
    "        print('Oi')\n",
    "\n",
    "    @classmethod\n",
    "    def metodo_classe_b(cls, nome):\n",
    "        return cls(nome, 200)"
   ]
  },
  {
   "cell_type": "code",
   "execution_count": 16,
   "metadata": {},
   "outputs": [],
   "source": [
    "\"\"\"\n",
    " @classmethoddecorador para sinalizá-lo como um método de classe .\n",
    "\n",
    "Em vez de aceitar um selfparâmetro, os métodos de classe usam um clsparâmetro \n",
    "que aponta para a classe — e não para a instância do objeto — quando o método é chamado.\n",
    "\n",
    "Como o método de classe só tem acesso a esse clsargumento, ele não pode modificar o estado da instância do objeto. Isso exigiria acesso a self. No entanto, os métodos de classe ainda podem modificar o estado \n",
    "da classe que se aplica a todas as instâncias da classe.\n",
    "\n",
    "\"\"\"\n",
    "\n",
    "\n",
    "class MyClass:\n",
    "    def method(self):\n",
    "        return 'instance method called', self\n",
    "\n",
    "    @classmethod\n",
    "    def classmethod(cls):\n",
    "        return 'class method called', cls\n",
    "\n",
    "    @staticmethod\n",
    "    def staticmethod():\n",
    "        return 'static method called'"
   ]
  },
  {
   "cell_type": "code",
   "execution_count": 17,
   "metadata": {},
   "outputs": [],
   "source": [
    "\"\"\"\n",
    "A herança nos permite definir uma classe que herda todos\n",
    "os métodos e propriedades de outra classe.\n",
    "\n",
    "A classe pai é a classe da qual está sendo herdada, também \n",
    "chamada de classe base.\n",
    "\n",
    "Classe filha é a classe que herda de outra classe, também\n",
    "chamada de classe derivada.\n",
    "\n",
    "\"\"\""
   ]
  },
  {
   "cell_type": "code",
   "execution_count": null,
   "metadata": {},
   "outputs": [],
   "source": [
    "class Person:\n",
    "  def __init__(self, fname, lname):\n",
    "    self.firstname = fname\n",
    "    self.lastname = lname\n",
    "\n",
    "  def printname(self):\n",
    "    print(self.firstname, self.lastname)\n",
    "\n",
    "#Use the Person class to create an object, and then execute the printname method:\n",
    "\n",
    "x = Person(\"John\", \"Doe\")\n",
    "x.printname()"
   ]
  },
  {
   "cell_type": "code",
   "execution_count": null,
   "metadata": {},
   "outputs": [],
   "source": [
    "\"\"\"\n",
    "Quando você adiciona a __init__()função, a classe filha não herdará mais a __init__()função do pai.\n",
    "\n",
    "A herança, sempre vem de cima para baixo e nao o contrari. A classe filha de acessar todos os metodos e atributos da classe pai\n",
    "\n",
    "\"\"\""
   ]
  },
  {
   "cell_type": "code",
   "execution_count": null,
   "metadata": {},
   "outputs": [],
   "source": [
    "\"\"\"\n",
    "https://docs.python.org/pt-br/3/tutorial/classes.html\n",
    "\n",
    "\"\"\""
   ]
  },
  {
   "cell_type": "code",
   "execution_count": 23,
   "metadata": {},
   "outputs": [
    {
     "name": "stdout",
     "output_type": "stream",
     "text": [
      "John Doe\n"
     ]
    }
   ],
   "source": [
    "class Person:\n",
    "  def __init__(self, fname, lname):\n",
    "    self.firstname = fname\n",
    "    self.lastname = lname\n",
    "\n",
    "  def printname(self):\n",
    "    print(self.firstname, self.lastname)\n",
    "\n",
    "\n",
    "\n",
    "x = Person(\"John\", \"Doe\")\n",
    "x.printname()"
   ]
  },
  {
   "cell_type": "code",
   "execution_count": 24,
   "metadata": {},
   "outputs": [],
   "source": [
    "class Student(Person):\n",
    "  def __init__(self, fname, lname, year):\n",
    "    super().__init__(fname, lname)\n",
    "    self.graduationyear = year\n",
    "\n",
    "x = Student(\"Mike\", \"Olsen\", 2019)"
   ]
  },
  {
   "cell_type": "code",
   "execution_count": null,
   "metadata": {},
   "outputs": [],
   "source": []
  }
 ],
 "metadata": {
  "kernelspec": {
   "display_name": "venv",
   "language": "python",
   "name": "python3"
  },
  "language_info": {
   "codemirror_mode": {
    "name": "ipython",
    "version": 3
   },
   "file_extension": ".py",
   "mimetype": "text/x-python",
   "name": "python",
   "nbconvert_exporter": "python",
   "pygments_lexer": "ipython3",
   "version": "3.11.2"
  },
  "orig_nbformat": 4
 },
 "nbformat": 4,
 "nbformat_minor": 2
}
