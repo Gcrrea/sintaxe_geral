{
 "cells": [
  {
   "cell_type": "code",
   "execution_count": 19,
   "metadata": {},
   "outputs": [],
   "source": [
    "import csv\n",
    "import sys"
   ]
  },
  {
   "cell_type": "code",
   "execution_count": null,
   "metadata": {},
   "outputs": [],
   "source": [
    "#Documentação\n",
    "#https://book.pythontips.com/en/latest/generators.html"
   ]
  },
  {
   "cell_type": "code",
   "execution_count": null,
   "metadata": {},
   "outputs": [],
   "source": [
    "\"\"\"\n",
    "A grande vantagem do Iterator e generator é\n",
    "a economia de memoria, e claro resultando\n",
    "em melhor performance\n",
    "\"\"\""
   ]
  },
  {
   "cell_type": "code",
   "execution_count": null,
   "metadata": {},
   "outputs": [],
   "source": [
    "#Diferente da lista, esse tipo de recurso\n",
    "# nao guarda nada na memoria, ou seja recebe e retorna. \n",
    "# E com isso economiza hardware da maquina"
   ]
  },
  {
   "cell_type": "code",
   "execution_count": 31,
   "metadata": {},
   "outputs": [],
   "source": [
    "#Função com retorno yield\n",
    "def lendo_csv(file_name):\n",
    "    for row in open(file_name, \"r\"):\n",
    "        yield row"
   ]
  },
  {
   "cell_type": "code",
   "execution_count": 32,
   "metadata": {},
   "outputs": [],
   "source": [
    "nome_do_arquivo = r\"C:\\estudo_datalake\\teste.csv\""
   ]
  },
  {
   "cell_type": "code",
   "execution_count": 36,
   "metadata": {},
   "outputs": [
    {
     "name": "stdout",
     "output_type": "stream",
     "text": [
      "['Nomes;Idades;Peso;Altura;IMC\\n', 'Aaron;39;53;1.93;14.2\\n', 'Adam;46;100;1.58;40.1\\n', 'Adrian;24;110;1.57;44.6\\n', 'Alec;39;57;1.83;17.0\\n', 'Alexander;32;89;1.54;37.5\\n', 'Alfred;58;116;1.53;49.6\\n', 'Andrew;59;60;1.58;24.0\\n', 'Anthony;22;57;1.50;25.3\\n', 'Arthur;20;114;1.87;32.6\\n', 'Asher;40;91;1.76;29.4\\n', 'Barnabay;25;69;1.64;25.7\\n', 'Benedict;37;115;1.72;38.9\\n', 'Benjamin;41;76;1.85;22.2\\n', 'Bradley;42;54;1.91;14.8\\n', 'Brandon;45;115;1.60;44.9\\n', 'Brian;52;52;1.68;18.4\\n', 'Brice;43;81;1.60;31.6\\n', 'Bruce;41;53;1.61;20.4\\n', 'Caleb;36;102;1.72;34.5\\n', 'Cameron;60;104;1.87;29.7\\n', 'Charles;32;90;1.74;29.7\\n', 'Christopher;57;75;1.99;18.9\\n', 'Clinton;44;61;1.95;16.0\\n', 'Colin;37;81;1.57;32.9\\n', 'Connor;32;111;1.71;38.0\\n', 'Damian;28;116;1.96;30.2\\n', 'Daniel;27;103;1.88;29.1\\n', 'David;43;74;1.60;28.9\\n', 'Declan;36;114;1.93;30.6\\n', 'Dexter;57;80;1.75;26.1\\n', 'Dominic;22;77;1.62;29.3\\n', 'Donald;51;75;1.66;27.2\\n', 'Douglas;28;93;1.99;23.5\\n', 'Duncan;27;99;1.78;31.2\\n', 'Dustin;25;100;1.87;28.6\\n', 'Dylan;39;117;1.94;31.1\\n', 'Edgard;47;75;1.86;21.7\\n', 'Edward;48;117;1.53;50.0\\n', 'Eli;24;52;1.70;18.0\\n', 'Elias;54;58;1.70;20.1\\n', 'Eric;39;106;1.71;36.3\\n', 'Ethan;32;89;1.82;26.9\\n', 'Evan;65;107;1.95;28.1\\n', 'Ezra;53;51;1.57;20.7\\n', 'Forrest;40;58;1.57;23.5\\n', 'Frank;34;79;1.63;29.7\\n', 'Frederick;23;56;1.56;23.0\\n', 'George;28;84;1.57;34.1\\n', 'Gilbert;42;98;2.00;24.5\\n', 'Graham;20;51;1.61;19.7\\n', 'Hank;44;71;1.75;23.2\\n', 'Harold;49;74;1.63;27.9\\n', 'Harry;32;89;1.96;23.2\\n', 'Harvey;43;120;1.54;50.6\\n', 'Henry;25;78;1.93;20.9\\n', 'Ian;19;77;1.56;31.6\\n', 'Jack;59;81;1.79;25.3\\n', 'Jackson;64;114;1.83;34.0\\n', 'Jacob;65;95;2.00;23.8\\n', 'James;18;89;1.53;38.0\\n', 'John;54;60;1.98;15.3\\n', 'Jonathan;55;96;1.53;41.0\\n', 'Jordan;55;90;1.68;31.9\\n', 'Joseph;62;88;1.50;39.1\\n', 'Joshua;59;116;1.52;50.2\\n', 'Jude;53;79;1.59;31.2\\n', 'Julian;64;51;1.62;19.4\\n', 'Justin;36;114;1.52;49.3\\n', 'Kenneth;61;101;1.80;31.2\\n', 'Kevin;35;87;1.95;22.9\\n', 'Kyle;26;115;1.51;50.4\\n', 'Lewis;18;97;1.88;27.4\\n', 'Liam;62;86;1.82;26.0\\n', 'Logan;35;74;1.64;27.5\\n', 'Luke;43;86;1.76;27.8\\n', 'Malcolm;46;107;1.52;46.3\\n', 'Mark;47;95;1.87;27.2\\n', 'Martin;61;50;1.94;13.3\\n', 'Matthew;29;61;1.90;16.9\\n', 'Maximiliam;56;98;1.85;28.6\\n', 'Michael;65;77;1.57;31.2\\n', 'Milo;52;115;1.99;29.0\\n', 'Nathaniel;37;100;1.99;25.3\\n', 'Neil;23;95;1.60;37.1\\n', 'Nicholas;41;109;1.58;43.7\\n', 'Noah;19;73;1.93;19.6\\n', 'Oliver;57;102;1.71;34.9\\n', 'Oscar;21;99;1.76;32.0\\n', 'Owen;33;68;1.82;20.5\\n', 'Patrick;64;52;1.82;15.7\\n', 'Paul;39;93;1.59;36.8\\n', 'Peter;65;110;1.75;35.9\\n', 'Quincy;53;73;1.78;23.0\\n', 'Ralph;60;62;1.84;18.3\\n', 'Richard;54;58;1.98;14.8\\n', 'Robert;41;85;1.56;34.9\\n', 'Robin;31;114;1.61;44.0\\n', 'Roger;58;77;1.68;27.3\\n', 'Russell;24;108;1.64;40.2\\n', 'Ryan;42;74;1.58;29.6\\n', 'Ryder;64;58;1.52;25.1\\n', 'Samuel;23;104;1.82;31.4\\n', 'Scott;59;53;1.67;19.0\\n', 'Sean;54;73;1.61;28.2\\n', 'Sebastian;39;102;1.99;25.8\\n', 'Stephen;21;74;1.61;28.5\\n', 'Steven;45;93;1.97;24.0\\n', 'Stuart;59;70;1.93;18.8\\n', 'Thomas;32;120;1.56;49.3\\n', 'Tyler;26;95;1.62;36.2\\n', 'Vincent;36;109;1.57;44.2\\n', 'Walter;44;108;1.90;29.9\\n', 'William;23;108;1.63;40.6\\n', 'Wyatt;51;83;1.98;21.2\\n']\n"
     ]
    }
   ],
   "source": [
    "print(list(lendo_csv(nome_do_arquivo)))"
   ]
  },
  {
   "cell_type": "code",
   "execution_count": 26,
   "metadata": {},
   "outputs": [
    {
     "data": {
      "text/plain": [
       "[['Nomes', 'Idades', 'Peso', 'Altura', 'IMC\\n'],\n",
       " ['Aaron', '39', '53', '1.93', '14.2\\n'],\n",
       " ['Adam', '46', '100', '1.58', '40.1\\n'],\n",
       " ['Adrian', '24', '110', '1.57', '44.6\\n'],\n",
       " ['Alec', '39', '57', '1.83', '17.0\\n'],\n",
       " ['Alexander', '32', '89', '1.54', '37.5\\n'],\n",
       " ['Alfred', '58', '116', '1.53', '49.6\\n'],\n",
       " ['Andrew', '59', '60', '1.58', '24.0\\n'],\n",
       " ['Anthony', '22', '57', '1.50', '25.3\\n'],\n",
       " ['Arthur', '20', '114', '1.87', '32.6\\n'],\n",
       " ['Asher', '40', '91', '1.76', '29.4\\n'],\n",
       " ['Barnabay', '25', '69', '1.64', '25.7\\n'],\n",
       " ['Benedict', '37', '115', '1.72', '38.9\\n'],\n",
       " ['Benjamin', '41', '76', '1.85', '22.2\\n'],\n",
       " ['Bradley', '42', '54', '1.91', '14.8\\n'],\n",
       " ['Brandon', '45', '115', '1.60', '44.9\\n'],\n",
       " ['Brian', '52', '52', '1.68', '18.4\\n'],\n",
       " ['Brice', '43', '81', '1.60', '31.6\\n'],\n",
       " ['Bruce', '41', '53', '1.61', '20.4\\n'],\n",
       " ['Caleb', '36', '102', '1.72', '34.5\\n'],\n",
       " ['Cameron', '60', '104', '1.87', '29.7\\n'],\n",
       " ['Charles', '32', '90', '1.74', '29.7\\n'],\n",
       " ['Christopher', '57', '75', '1.99', '18.9\\n'],\n",
       " ['Clinton', '44', '61', '1.95', '16.0\\n'],\n",
       " ['Colin', '37', '81', '1.57', '32.9\\n'],\n",
       " ['Connor', '32', '111', '1.71', '38.0\\n'],\n",
       " ['Damian', '28', '116', '1.96', '30.2\\n'],\n",
       " ['Daniel', '27', '103', '1.88', '29.1\\n'],\n",
       " ['David', '43', '74', '1.60', '28.9\\n'],\n",
       " ['Declan', '36', '114', '1.93', '30.6\\n'],\n",
       " ['Dexter', '57', '80', '1.75', '26.1\\n'],\n",
       " ['Dominic', '22', '77', '1.62', '29.3\\n'],\n",
       " ['Donald', '51', '75', '1.66', '27.2\\n'],\n",
       " ['Douglas', '28', '93', '1.99', '23.5\\n'],\n",
       " ['Duncan', '27', '99', '1.78', '31.2\\n'],\n",
       " ['Dustin', '25', '100', '1.87', '28.6\\n'],\n",
       " ['Dylan', '39', '117', '1.94', '31.1\\n'],\n",
       " ['Edgard', '47', '75', '1.86', '21.7\\n'],\n",
       " ['Edward', '48', '117', '1.53', '50.0\\n'],\n",
       " ['Eli', '24', '52', '1.70', '18.0\\n'],\n",
       " ['Elias', '54', '58', '1.70', '20.1\\n'],\n",
       " ['Eric', '39', '106', '1.71', '36.3\\n'],\n",
       " ['Ethan', '32', '89', '1.82', '26.9\\n'],\n",
       " ['Evan', '65', '107', '1.95', '28.1\\n'],\n",
       " ['Ezra', '53', '51', '1.57', '20.7\\n'],\n",
       " ['Forrest', '40', '58', '1.57', '23.5\\n'],\n",
       " ['Frank', '34', '79', '1.63', '29.7\\n'],\n",
       " ['Frederick', '23', '56', '1.56', '23.0\\n'],\n",
       " ['George', '28', '84', '1.57', '34.1\\n'],\n",
       " ['Gilbert', '42', '98', '2.00', '24.5\\n'],\n",
       " ['Graham', '20', '51', '1.61', '19.7\\n'],\n",
       " ['Hank', '44', '71', '1.75', '23.2\\n'],\n",
       " ['Harold', '49', '74', '1.63', '27.9\\n'],\n",
       " ['Harry', '32', '89', '1.96', '23.2\\n'],\n",
       " ['Harvey', '43', '120', '1.54', '50.6\\n'],\n",
       " ['Henry', '25', '78', '1.93', '20.9\\n'],\n",
       " ['Ian', '19', '77', '1.56', '31.6\\n'],\n",
       " ['Jack', '59', '81', '1.79', '25.3\\n'],\n",
       " ['Jackson', '64', '114', '1.83', '34.0\\n'],\n",
       " ['Jacob', '65', '95', '2.00', '23.8\\n'],\n",
       " ['James', '18', '89', '1.53', '38.0\\n'],\n",
       " ['John', '54', '60', '1.98', '15.3\\n'],\n",
       " ['Jonathan', '55', '96', '1.53', '41.0\\n'],\n",
       " ['Jordan', '55', '90', '1.68', '31.9\\n'],\n",
       " ['Joseph', '62', '88', '1.50', '39.1\\n'],\n",
       " ['Joshua', '59', '116', '1.52', '50.2\\n'],\n",
       " ['Jude', '53', '79', '1.59', '31.2\\n'],\n",
       " ['Julian', '64', '51', '1.62', '19.4\\n'],\n",
       " ['Justin', '36', '114', '1.52', '49.3\\n'],\n",
       " ['Kenneth', '61', '101', '1.80', '31.2\\n'],\n",
       " ['Kevin', '35', '87', '1.95', '22.9\\n'],\n",
       " ['Kyle', '26', '115', '1.51', '50.4\\n'],\n",
       " ['Lewis', '18', '97', '1.88', '27.4\\n'],\n",
       " ['Liam', '62', '86', '1.82', '26.0\\n'],\n",
       " ['Logan', '35', '74', '1.64', '27.5\\n'],\n",
       " ['Luke', '43', '86', '1.76', '27.8\\n'],\n",
       " ['Malcolm', '46', '107', '1.52', '46.3\\n'],\n",
       " ['Mark', '47', '95', '1.87', '27.2\\n'],\n",
       " ['Martin', '61', '50', '1.94', '13.3\\n'],\n",
       " ['Matthew', '29', '61', '1.90', '16.9\\n'],\n",
       " ['Maximiliam', '56', '98', '1.85', '28.6\\n'],\n",
       " ['Michael', '65', '77', '1.57', '31.2\\n'],\n",
       " ['Milo', '52', '115', '1.99', '29.0\\n'],\n",
       " ['Nathaniel', '37', '100', '1.99', '25.3\\n'],\n",
       " ['Neil', '23', '95', '1.60', '37.1\\n'],\n",
       " ['Nicholas', '41', '109', '1.58', '43.7\\n'],\n",
       " ['Noah', '19', '73', '1.93', '19.6\\n'],\n",
       " ['Oliver', '57', '102', '1.71', '34.9\\n'],\n",
       " ['Oscar', '21', '99', '1.76', '32.0\\n'],\n",
       " ['Owen', '33', '68', '1.82', '20.5\\n'],\n",
       " ['Patrick', '64', '52', '1.82', '15.7\\n'],\n",
       " ['Paul', '39', '93', '1.59', '36.8\\n'],\n",
       " ['Peter', '65', '110', '1.75', '35.9\\n'],\n",
       " ['Quincy', '53', '73', '1.78', '23.0\\n'],\n",
       " ['Ralph', '60', '62', '1.84', '18.3\\n'],\n",
       " ['Richard', '54', '58', '1.98', '14.8\\n'],\n",
       " ['Robert', '41', '85', '1.56', '34.9\\n'],\n",
       " ['Robin', '31', '114', '1.61', '44.0\\n'],\n",
       " ['Roger', '58', '77', '1.68', '27.3\\n'],\n",
       " ['Russell', '24', '108', '1.64', '40.2\\n'],\n",
       " ['Ryan', '42', '74', '1.58', '29.6\\n'],\n",
       " ['Ryder', '64', '58', '1.52', '25.1\\n'],\n",
       " ['Samuel', '23', '104', '1.82', '31.4\\n'],\n",
       " ['Scott', '59', '53', '1.67', '19.0\\n'],\n",
       " ['Sean', '54', '73', '1.61', '28.2\\n'],\n",
       " ['Sebastian', '39', '102', '1.99', '25.8\\n'],\n",
       " ['Stephen', '21', '74', '1.61', '28.5\\n'],\n",
       " ['Steven', '45', '93', '1.97', '24.0\\n'],\n",
       " ['Stuart', '59', '70', '1.93', '18.8\\n'],\n",
       " ['Thomas', '32', '120', '1.56', '49.3\\n'],\n",
       " ['Tyler', '26', '95', '1.62', '36.2\\n'],\n",
       " ['Vincent', '36', '109', '1.57', '44.2\\n'],\n",
       " ['Walter', '44', '108', '1.90', '29.9\\n'],\n",
       " ['William', '23', '108', '1.63', '40.6\\n'],\n",
       " ['Wyatt', '51', '83', '1.98', '21.2\\n']]"
      ]
     },
     "execution_count": 26,
     "metadata": {},
     "output_type": "execute_result"
    }
   ],
   "source": [
    "csv_gen = list(row for row in open(nome_do_arquivo))\n",
    "\n",
    "[item.split(\";\") for item in csv_gen]"
   ]
  },
  {
   "cell_type": "code",
   "execution_count": 25,
   "metadata": {},
   "outputs": [
    {
     "name": "stdout",
     "output_type": "stream",
     "text": [
      "a\n",
      "b\n",
      "c\n",
      "y\n"
     ]
    }
   ],
   "source": [
    "#Esgotamento de lista\n",
    "letters = [\"a\", \"b\", \"c\", \"y\"]\n",
    "it = iter(letters)\n",
    "while True:\n",
    "    try:\n",
    "        letter = next(it)\n",
    "    except StopIteration:\n",
    "        break\n",
    "    print(letter)\n"
   ]
  },
  {
   "cell_type": "code",
   "execution_count": 37,
   "metadata": {},
   "outputs": [],
   "source": [
    "def infinite_sequence():\n",
    "    num = 0\n",
    "    while True:\n",
    "        yield num\n",
    "        num += 1\n",
    "        \n",
    "nums_squared_lc = [num**2 for num in range(5)]"
   ]
  },
  {
   "cell_type": "code",
   "execution_count": 29,
   "metadata": {},
   "outputs": [
    {
     "name": "stdout",
     "output_type": "stream",
     "text": [
      "85176\n",
      "208\n"
     ]
    }
   ],
   "source": [
    "\n",
    "nums_squared_lc = [i ** 2 for i in range(10000)]#Lista\n",
    "print(sys.getsizeof(nums_squared_lc))\n",
    "\n",
    "nums_squared_gc = (i ** 2 for i in range(10000))#generator\n",
    "print(sys.getsizeof(nums_squared_gc))\n",
    "#O consumo da lista é muito maior que o do Generator"
   ]
  }
 ],
 "metadata": {
  "kernelspec": {
   "display_name": "venv",
   "language": "python",
   "name": "python3"
  },
  "language_info": {
   "codemirror_mode": {
    "name": "ipython",
    "version": 3
   },
   "file_extension": ".py",
   "mimetype": "text/x-python",
   "name": "python",
   "nbconvert_exporter": "python",
   "pygments_lexer": "ipython3",
   "version": "3.11.2"
  },
  "orig_nbformat": 4
 },
 "nbformat": 4,
 "nbformat_minor": 2
}
